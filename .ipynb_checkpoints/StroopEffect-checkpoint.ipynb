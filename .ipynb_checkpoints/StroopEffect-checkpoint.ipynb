{
 "cells": [
  {
   "cell_type": "markdown",
   "metadata": {},
   "source": [
    "# Stroop Effect"
   ]
  },
  {
   "cell_type": "markdown",
   "metadata": {},
   "source": [
    "1.\n",
    "    In the Stroop Task, subjects are timed and asked to read different sets of congruently and inconguently colored words. The dependent variable is the time it takes to corectly complete each list of words, as it is dependent on which set the subject reads. The Independent variable is the color of the words, congruent or incongruent.\n",
    "\n",
    "2.\n",
    "        The data collected for our hypothesis and test are from 24 subjects that we assume is random. We know our subjects are a sample of the population and that the population parameters are unknown. I chose to use a dependent negative one tailed T-test with an alpha level of &alpha; = .05. The data is numerical and this test will compare the mean of one set of data to the mean of another for the same subjects. The null hypothesis, H<sub>0</sub>, that I chose will infer that the populations mean time for congruent colored words is equal to or greater than the population mean time for incongruent colored words. Shown here as H<sub>0</sub>: &mu;<sub>c</sub> &ge; &mu;<sub>i</sub>. The alternative hypothesis, H<sub>A</sub>, will therefore be that the population mean time for congruent colored words will be significantly lower than the population mean time for incongruent colored words. Shown here as H<sub>A</sub>: &mu;<sub>c</sub> &lt; &mu;<sub>i</sub>. I believe that it will have an effect, slowing down the reaction times of the subjects. \n",
    "\n",
    "2.\n",
    "(Continued) H<sub>0</sub> will stand for the null hypothesis, H<sub>A</sub> will stand for the alternative hypothesis. &mu;<sub>c</sub> and &mu;<sub>i</sub> will stand for the population mean time for congruent colored words and incongruent colored words respectivly. We are making several assumptions about the data. That it is randomly sampled data from a population that is normally distributed and the samples are linked to the population.\n",
    "    \n",
    "3.\n",
    "    This is the data we were given to test."
   ]
  },
  {
   "cell_type": "code",
   "execution_count": 1,
   "metadata": {},
   "outputs": [
    {
     "data": {
      "text/html": [
       "<div>\n",
       "<table border=\"1\" class=\"dataframe\">\n",
       "  <thead>\n",
       "    <tr style=\"text-align: right;\">\n",
       "      <th></th>\n",
       "      <th>Congruent</th>\n",
       "      <th>Incongruent</th>\n",
       "    </tr>\n",
       "  </thead>\n",
       "  <tbody>\n",
       "    <tr>\n",
       "      <th>0</th>\n",
       "      <td>12.079</td>\n",
       "      <td>19.278</td>\n",
       "    </tr>\n",
       "    <tr>\n",
       "      <th>1</th>\n",
       "      <td>16.791</td>\n",
       "      <td>18.741</td>\n",
       "    </tr>\n",
       "    <tr>\n",
       "      <th>2</th>\n",
       "      <td>9.564</td>\n",
       "      <td>21.214</td>\n",
       "    </tr>\n",
       "    <tr>\n",
       "      <th>3</th>\n",
       "      <td>8.630</td>\n",
       "      <td>15.687</td>\n",
       "    </tr>\n",
       "    <tr>\n",
       "      <th>4</th>\n",
       "      <td>14.669</td>\n",
       "      <td>22.803</td>\n",
       "    </tr>\n",
       "    <tr>\n",
       "      <th>5</th>\n",
       "      <td>12.238</td>\n",
       "      <td>20.878</td>\n",
       "    </tr>\n",
       "    <tr>\n",
       "      <th>6</th>\n",
       "      <td>14.692</td>\n",
       "      <td>24.572</td>\n",
       "    </tr>\n",
       "    <tr>\n",
       "      <th>7</th>\n",
       "      <td>8.987</td>\n",
       "      <td>17.394</td>\n",
       "    </tr>\n",
       "    <tr>\n",
       "      <th>8</th>\n",
       "      <td>9.401</td>\n",
       "      <td>20.762</td>\n",
       "    </tr>\n",
       "    <tr>\n",
       "      <th>9</th>\n",
       "      <td>14.480</td>\n",
       "      <td>26.282</td>\n",
       "    </tr>\n",
       "    <tr>\n",
       "      <th>10</th>\n",
       "      <td>22.328</td>\n",
       "      <td>24.524</td>\n",
       "    </tr>\n",
       "    <tr>\n",
       "      <th>11</th>\n",
       "      <td>15.298</td>\n",
       "      <td>18.644</td>\n",
       "    </tr>\n",
       "    <tr>\n",
       "      <th>12</th>\n",
       "      <td>15.073</td>\n",
       "      <td>17.510</td>\n",
       "    </tr>\n",
       "    <tr>\n",
       "      <th>13</th>\n",
       "      <td>16.929</td>\n",
       "      <td>20.330</td>\n",
       "    </tr>\n",
       "    <tr>\n",
       "      <th>14</th>\n",
       "      <td>18.200</td>\n",
       "      <td>35.255</td>\n",
       "    </tr>\n",
       "    <tr>\n",
       "      <th>15</th>\n",
       "      <td>12.130</td>\n",
       "      <td>22.158</td>\n",
       "    </tr>\n",
       "    <tr>\n",
       "      <th>16</th>\n",
       "      <td>18.495</td>\n",
       "      <td>25.139</td>\n",
       "    </tr>\n",
       "    <tr>\n",
       "      <th>17</th>\n",
       "      <td>10.639</td>\n",
       "      <td>20.429</td>\n",
       "    </tr>\n",
       "    <tr>\n",
       "      <th>18</th>\n",
       "      <td>11.344</td>\n",
       "      <td>17.425</td>\n",
       "    </tr>\n",
       "    <tr>\n",
       "      <th>19</th>\n",
       "      <td>12.369</td>\n",
       "      <td>34.288</td>\n",
       "    </tr>\n",
       "    <tr>\n",
       "      <th>20</th>\n",
       "      <td>12.944</td>\n",
       "      <td>23.894</td>\n",
       "    </tr>\n",
       "    <tr>\n",
       "      <th>21</th>\n",
       "      <td>14.233</td>\n",
       "      <td>17.960</td>\n",
       "    </tr>\n",
       "    <tr>\n",
       "      <th>22</th>\n",
       "      <td>19.710</td>\n",
       "      <td>22.058</td>\n",
       "    </tr>\n",
       "    <tr>\n",
       "      <th>23</th>\n",
       "      <td>16.004</td>\n",
       "      <td>21.157</td>\n",
       "    </tr>\n",
       "  </tbody>\n",
       "</table>\n",
       "</div>"
      ],
      "text/plain": [
       "    Congruent  Incongruent\n",
       "0      12.079       19.278\n",
       "1      16.791       18.741\n",
       "2       9.564       21.214\n",
       "3       8.630       15.687\n",
       "4      14.669       22.803\n",
       "5      12.238       20.878\n",
       "6      14.692       24.572\n",
       "7       8.987       17.394\n",
       "8       9.401       20.762\n",
       "9      14.480       26.282\n",
       "10     22.328       24.524\n",
       "11     15.298       18.644\n",
       "12     15.073       17.510\n",
       "13     16.929       20.330\n",
       "14     18.200       35.255\n",
       "15     12.130       22.158\n",
       "16     18.495       25.139\n",
       "17     10.639       20.429\n",
       "18     11.344       17.425\n",
       "19     12.369       34.288\n",
       "20     12.944       23.894\n",
       "21     14.233       17.960\n",
       "22     19.710       22.058\n",
       "23     16.004       21.157"
      ]
     },
     "execution_count": 1,
     "metadata": {},
     "output_type": "execute_result"
    }
   ],
   "source": [
    "import pandas as pd\n",
    "import math as mt\n",
    "import matplotlib.pyplot as plt\n",
    "\n",
    "filename = \"stroopdata.csv\"\n",
    "\n",
    "stsample = pd.read_csv(filename)\n",
    "stsample[[\"Congruent\", \"Incongruent\"]]"
   ]
  },
  {
   "cell_type": "markdown",
   "metadata": {},
   "source": [
    "3.\n",
    "    (Continued) Here is some basic statistical information about the data."
   ]
  },
  {
   "cell_type": "code",
   "execution_count": 2,
   "metadata": {
    "scrolled": true
   },
   "outputs": [
    {
     "data": {
      "text/html": [
       "<div>\n",
       "<table border=\"1\" class=\"dataframe\">\n",
       "  <thead>\n",
       "    <tr style=\"text-align: right;\">\n",
       "      <th></th>\n",
       "      <th>Congruent</th>\n",
       "      <th>Incongruent</th>\n",
       "    </tr>\n",
       "  </thead>\n",
       "  <tbody>\n",
       "    <tr>\n",
       "      <th>count</th>\n",
       "      <td>24.000000</td>\n",
       "      <td>24.000000</td>\n",
       "    </tr>\n",
       "    <tr>\n",
       "      <th>mean</th>\n",
       "      <td>14.051125</td>\n",
       "      <td>22.015917</td>\n",
       "    </tr>\n",
       "    <tr>\n",
       "      <th>std</th>\n",
       "      <td>3.559358</td>\n",
       "      <td>4.797057</td>\n",
       "    </tr>\n",
       "    <tr>\n",
       "      <th>min</th>\n",
       "      <td>8.630000</td>\n",
       "      <td>15.687000</td>\n",
       "    </tr>\n",
       "    <tr>\n",
       "      <th>25%</th>\n",
       "      <td>11.895250</td>\n",
       "      <td>18.716750</td>\n",
       "    </tr>\n",
       "    <tr>\n",
       "      <th>50%</th>\n",
       "      <td>14.356500</td>\n",
       "      <td>21.017500</td>\n",
       "    </tr>\n",
       "    <tr>\n",
       "      <th>75%</th>\n",
       "      <td>16.200750</td>\n",
       "      <td>24.051500</td>\n",
       "    </tr>\n",
       "    <tr>\n",
       "      <th>max</th>\n",
       "      <td>22.328000</td>\n",
       "      <td>35.255000</td>\n",
       "    </tr>\n",
       "  </tbody>\n",
       "</table>\n",
       "</div>"
      ],
      "text/plain": [
       "       Congruent  Incongruent\n",
       "count  24.000000    24.000000\n",
       "mean   14.051125    22.015917\n",
       "std     3.559358     4.797057\n",
       "min     8.630000    15.687000\n",
       "25%    11.895250    18.716750\n",
       "50%    14.356500    21.017500\n",
       "75%    16.200750    24.051500\n",
       "max    22.328000    35.255000"
      ]
     },
     "execution_count": 2,
     "metadata": {},
     "output_type": "execute_result"
    }
   ],
   "source": [
    "stsample[[\"Congruent\", \"Incongruent\"]].describe()"
   ]
  },
  {
   "cell_type": "markdown",
   "metadata": {},
   "source": [
    "3.\n",
    "    (Continued) It looks as if there was indeed some delay in the incongruent times. The difference also looks to be significant, but we need to test it to be sure.\n",
    "\n",
    "4.\n",
    "    This is a graph of the data made to show the difference in times for each subject."
   ]
  },
  {
   "cell_type": "code",
   "execution_count": 3,
   "metadata": {},
   "outputs": [
    {
     "data": {
      "image/png": "[encoded data removed]",
      "text/plain": [
       "<matplotlib.figure.Figure at 0x9682710>"
      ]
     },
     "metadata": {},
     "output_type": "display_data"
    }
   ],
   "source": [
    "stsample[[\"Congruent\", \"Incongruent\"]].hist(sharex=True,)\n",
    "plt.show()"
   ]
  },
  {
   "cell_type": "code",
   "execution_count": 4,
   "metadata": {},
   "outputs": [
    {
     "data": {
      "image/png": "[encoded data removed]",
      "text/plain": [
       "<matplotlib.figure.Figure at 0x97b4a58>"
      ]
     },
     "metadata": {},
     "output_type": "display_data"
    }
   ],
   "source": [
    "samplepx = stsample[[\"Congruent\", \"Incongruent\"]].sort_values(by='Congruent').plot( kind='bar',\n",
    "                      figsize=(11, 8), color=['b', 'r'],\n",
    "                      sharex=True, sharey=True)\n",
    "samplepx.set_title('Congruent vs Incongruent', fontsize='18')\n",
    "samplepx.set_ylabel('Seconds', fontsize='14')\n",
    "samplepx.set_xlabel('Subjects', fontsize='14')\n",
    "plt.show()"
   ]
  },
  {
   "cell_type": "markdown",
   "metadata": {},
   "source": [
    "4.\n",
    "    (Continued) Again you can see that evernyone had slower times with the incongruent words. People with slower congruent times appear to see less effect on their incongruent times. While those with short congruent times appear to see a much larger effect."
   ]
  },
  {
   "cell_type": "markdown",
   "metadata": {},
   "source": [
    "5.To start our T-test, here is our important info and below is our formulas and work. Useful info is x&#772;<sub>c</sub>(congruent mean) = 14.05, x&#772;<sub>i</sub>(incongruent mean) = 22.02, degrees of freedom = 23, n(number of subjects) = 24. This means our T<sub>crit</sub> = -1.714."
   ]
  },
  {
   "cell_type": "code",
   "execution_count": 5,
   "metadata": {},
   "outputs": [
    {
     "name": "stdout",
     "output_type": "stream",
     "text": [
      "T Critical = -1.714\n",
      "T = -8.02594777909\n"
     ]
    }
   ],
   "source": [
    "xbar1 = 14.05\n",
    "xbar2 = 22.02\n",
    "n = 24\n",
    "sumofsquares = stsample[\"Squared Diff\"].sum()\n",
    "variance = sumofsquares/(n - 1)\n",
    "stddev = mt.sqrt(variance)\n",
    "degreesfreedom = (n - 1)\n",
    "meandiff = xbar1 - xbar2\n",
    "tcrit = -1.714\n",
    "\n",
    "sampleerror = stddev/mt.sqrt(n)\n",
    "t = meandiff/sampleerror\n",
    "\n",
    "\n",
    "print \"T Critical =\", tcrit\n",
    "print \"T =\", t"
   ]
  },
  {
   "cell_type": "markdown",
   "metadata": {},
   "source": [
    "With a T score of -8.03, we are well below our T<sub>crit</sub> value of -1.714. Thus we reject the null hypothesis and accept the alternte hypothesis. Incongruent word colors has a significant effect on the time it takes to say the color corectly. Now lets find a couple measures of effect, Cohen's D and r&sup2;."
   ]
  },
  {
   "cell_type": "code",
   "execution_count": 6,
   "metadata": {},
   "outputs": [
    {
     "name": "stdout",
     "output_type": "stream",
     "text": [
      "Cohen's D = -1.63828973008\n",
      "r^2 = 0.736889783461\n"
     ]
    }
   ],
   "source": [
    "cohend = meandiff/stddev\n",
    "rsquared = (t * t)/((t * t) + degreesfreedom)\n",
    "\n",
    "print \"Cohen's D =\", cohend\n",
    "print \"r^2 =\", rsquared"
   ]
  },
  {
   "cell_type": "markdown",
   "metadata": {},
   "source": [
    "6.What is behind the slower times for incongruent words? I think it could be many things acting together instead of a single effect on our abilities. Perhaps the brain reads the word in a single instance before moving on to color, which might also process at different speeds creating delays before speaking the correct answer. Other tests might include something along the line of what you see versus what you smell. I'm not sure which way that would go. Saying what you smell first or what you see?"
   ]
  }
 ],
 "metadata": {
  "anaconda-cloud": {},
  "kernelspec": {
   "display_name": "Python 2",
   "language": "python",
   "name": "python2"
  },
  "language_info": {
   "codemirror_mode": {
    "name": "ipython",
    "version": 2
   },
   "file_extension": ".py",
   "mimetype": "text/x-python",
   "name": "python",
   "nbconvert_exporter": "python",
   "pygments_lexer": "ipython2",
   "version": "2.7.14"
  }
 },
 "nbformat": 4,
 "nbformat_minor": 1
}
